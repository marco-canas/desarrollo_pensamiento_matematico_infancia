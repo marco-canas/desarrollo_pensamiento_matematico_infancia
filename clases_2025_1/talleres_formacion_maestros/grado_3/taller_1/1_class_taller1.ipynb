{
 "cells": [
  {
   "cell_type": "markdown",
   "id": "dc06dec7",
   "metadata": {
    "slideshow": {
     "slide_type": "slide"
    }
   },
   "source": [
    "<table align=\"left\">\n",
    "  <td>\n",
    "    <a href=\"https://colab.research.google.com/github/ageron/handson-ml3/blob/main/tools_numpy.ipynb\" target=\"_parent\"><img src=\"https://colab.research.google.com/assets/colab-badge.svg\" alt=\"Open In Colab\"/></a>\n",
    "  </td>\n",
    "  <td>\n",
    "    <a target=\"_blank\" href=\"https://kaggle.com/kernels/welcome?src=https://github.com/ageron/handson-ml3/blob/main/tools_numpy.ipynb\"><img src=\"https://kaggle.com/static/images/open-in-kaggle.svg\" /></a>\n",
    "  </td>\n",
    "</table>"
   ]
  },
  {
   "cell_type": "markdown",
   "id": "e0c5b198",
   "metadata": {
    "slideshow": {
     "slide_type": "slide"
    }
   },
   "source": [
    "### [Video de apoyo a la lectura interactiva y experimental de este cuaderno]()"
   ]
  },
  {
   "cell_type": "markdown",
   "id": "41e82203",
   "metadata": {
    "slideshow": {
     "slide_type": "slide"
    }
   },
   "source": [
    "### [Vínculo al programa del curso:  ]()\n",
    "\n"
   ]
  },
  {
   "cell_type": "markdown",
   "id": "d11ab06d",
   "metadata": {
    "slideshow": {
     "slide_type": "slide"
    }
   },
   "source": [
    "Un reconocimiento a mis estudiantes que han construido conmigo este saber pedagógico:\n",
    "\n",
    "<img src = ''> \n",
    "\n"
   ]
  },
  {
   "cell_type": "markdown",
   "id": "8a74a56c-0ce6-4ad6-b985-553fd7fb68bb",
   "metadata": {},
   "source": [
    "Reconocimiento a las profesoras destacadas en enseñanza de la matemática en Colombia\n"
   ]
  },
  {
   "cell_type": "code",
   "execution_count": 7,
   "id": "7604880f",
   "metadata": {
    "slideshow": {
     "slide_type": "slide"
    }
   },
   "outputs": [
    {
     "data": {
      "application/vnd.microsoft.datawrangler.viewer.v0+json": {
       "columns": [
        {
         "name": "index",
         "rawType": "int64",
         "type": "integer"
        },
        {
         "name": "Cedula",
         "rawType": "float64",
         "type": "float"
        },
        {
         "name": "Nombre",
         "rawType": "object",
         "type": "string"
        },
        {
         "name": "Email",
         "rawType": "object",
         "type": "string"
        },
        {
         "name": "Parcial",
         "rawType": "float64",
         "type": "float"
        },
        {
         "name": "Asistencia",
         "rawType": "float64",
         "type": "float"
        }
       ],
       "conversionMethod": "pd.DataFrame",
       "ref": "fff84ffc-7186-408d-9f1a-76a89e2c9cc6",
       "rows": [
        [
         "1",
         "1063787015.0",
         "ALVAREZ PEREZ CARLOS JULIO",
         "carlos.alvarez19@udea.edu.co",
         "0.0",
         null
        ],
        [
         "2",
         "1032248705.0",
         "ARRIETA LOPEZ ELIANA",
         "e.arrieta@udea.edu.co",
         "0.0",
         null
        ],
        [
         "3",
         "1038646812.0",
         "CARCAMO TABORDA MARCELA PATRICIA",
         "marcela.carcamo@udea.edu.co",
         "0.0",
         null
        ],
        [
         "4",
         "1038100560.0",
         "CARRASCAL BOLANO DULCEMARIA",
         "dulcemaria.carrascal@udea.edu.co",
         "0.0",
         null
        ],
        [
         "5",
         "1038096592.0",
         "CUELLO SALAS DANNA ZHARICK",
         "dzharick.cuello@udea.edu.co",
         "0.0",
         null
        ],
        [
         "6",
         "1038103161.0",
         "DIAZ MERCADO LUIS ESTEBAN",
         "esteban.diaz1@udea.edu.co",
         "0.0",
         null
        ],
        [
         "7",
         "1038646180.0",
         "GENES MARTINEZ DAYANA MICHEL",
         "dayana.genes@udea.edu.co",
         "0.0",
         null
        ],
        [
         "8",
         "1001533960.0",
         "GIL POLO VALENTINA",
         "valentina.gilp@udea.edu.co",
         "0.0",
         null
        ],
        [
         "9",
         "1007768161.0",
         "GONZALEZ TEHERAN INGRID",
         "ingrid.gonzalez@udea.edu.co",
         "0.0",
         null
        ],
        [
         "10",
         "1038101518.0",
         "GUERRA SAAH SARA",
         "sara.guerra1@udea.edu.co",
         "0.0",
         null
        ],
        [
         "11",
         "1038124651.0",
         "LOPEZ RODRIGUEZ KEILA XIOMARA",
         "keila.lopez@udea.edu.co",
         "0.0",
         null
        ],
        [
         "12",
         "1140882980.0",
         "MARTINEZ VALDIVIESO YESICA ELENA",
         "elena.martinez1@udea.edu.co",
         "0.0",
         null
        ],
        [
         "13",
         "1042825447.0",
         "MURILLO CUELLO LICETH PAOLA",
         "liceth.murillo@udea.edu.co",
         "0.0",
         null
        ],
        [
         "14",
         "1045137369.0",
         "ORTIZ PERDOMO HEVIZ YULIZA",
         "heviz.ortiz@udea.edu.co",
         "0.0",
         null
        ],
        [
         "15",
         "1001161141.0",
         "POLO MARTINEZ ADRIANA MARIA",
         "adriana.polo@udea.edu.co",
         "0.0",
         null
        ],
        [
         "16",
         "1063786733.0",
         "QUIROZ ACOSTA KATHERINE",
         "katherine.quiroz1@udea.edu.co",
         "0.0",
         null
        ],
        [
         "17",
         "1032248410.0",
         "RIVERA REINO JENIFER",
         "jenifer.rivera@udea.edu.co",
         "0.0",
         null
        ]
       ],
       "shape": {
        "columns": 5,
        "rows": 17
       }
      },
      "text/html": [
       "<div>\n",
       "<style scoped>\n",
       "    .dataframe tbody tr th:only-of-type {\n",
       "        vertical-align: middle;\n",
       "    }\n",
       "\n",
       "    .dataframe tbody tr th {\n",
       "        vertical-align: top;\n",
       "    }\n",
       "\n",
       "    .dataframe thead th {\n",
       "        text-align: right;\n",
       "    }\n",
       "</style>\n",
       "<table border=\"1\" class=\"dataframe\">\n",
       "  <thead>\n",
       "    <tr style=\"text-align: right;\">\n",
       "      <th></th>\n",
       "      <th>Cedula</th>\n",
       "      <th>Nombre</th>\n",
       "      <th>Email</th>\n",
       "      <th>Parcial</th>\n",
       "      <th>Asistencia</th>\n",
       "    </tr>\n",
       "  </thead>\n",
       "  <tbody>\n",
       "    <tr>\n",
       "      <th>1</th>\n",
       "      <td>1.063787e+09</td>\n",
       "      <td>ALVAREZ PEREZ CARLOS JULIO</td>\n",
       "      <td>carlos.alvarez19@udea.edu.co</td>\n",
       "      <td>0.0</td>\n",
       "      <td>NaN</td>\n",
       "    </tr>\n",
       "    <tr>\n",
       "      <th>2</th>\n",
       "      <td>1.032249e+09</td>\n",
       "      <td>ARRIETA LOPEZ ELIANA</td>\n",
       "      <td>e.arrieta@udea.edu.co</td>\n",
       "      <td>0.0</td>\n",
       "      <td>NaN</td>\n",
       "    </tr>\n",
       "    <tr>\n",
       "      <th>3</th>\n",
       "      <td>1.038647e+09</td>\n",
       "      <td>CARCAMO TABORDA MARCELA PATRICIA</td>\n",
       "      <td>marcela.carcamo@udea.edu.co</td>\n",
       "      <td>0.0</td>\n",
       "      <td>NaN</td>\n",
       "    </tr>\n",
       "    <tr>\n",
       "      <th>4</th>\n",
       "      <td>1.038101e+09</td>\n",
       "      <td>CARRASCAL BOLANO DULCEMARIA</td>\n",
       "      <td>dulcemaria.carrascal@udea.edu.co</td>\n",
       "      <td>0.0</td>\n",
       "      <td>NaN</td>\n",
       "    </tr>\n",
       "    <tr>\n",
       "      <th>5</th>\n",
       "      <td>1.038097e+09</td>\n",
       "      <td>CUELLO SALAS DANNA ZHARICK</td>\n",
       "      <td>dzharick.cuello@udea.edu.co</td>\n",
       "      <td>0.0</td>\n",
       "      <td>NaN</td>\n",
       "    </tr>\n",
       "    <tr>\n",
       "      <th>6</th>\n",
       "      <td>1.038103e+09</td>\n",
       "      <td>DIAZ MERCADO LUIS ESTEBAN</td>\n",
       "      <td>esteban.diaz1@udea.edu.co</td>\n",
       "      <td>0.0</td>\n",
       "      <td>NaN</td>\n",
       "    </tr>\n",
       "    <tr>\n",
       "      <th>7</th>\n",
       "      <td>1.038646e+09</td>\n",
       "      <td>GENES MARTINEZ DAYANA MICHEL</td>\n",
       "      <td>dayana.genes@udea.edu.co</td>\n",
       "      <td>0.0</td>\n",
       "      <td>NaN</td>\n",
       "    </tr>\n",
       "    <tr>\n",
       "      <th>8</th>\n",
       "      <td>1.001534e+09</td>\n",
       "      <td>GIL POLO VALENTINA</td>\n",
       "      <td>valentina.gilp@udea.edu.co</td>\n",
       "      <td>0.0</td>\n",
       "      <td>NaN</td>\n",
       "    </tr>\n",
       "    <tr>\n",
       "      <th>9</th>\n",
       "      <td>1.007768e+09</td>\n",
       "      <td>GONZALEZ TEHERAN INGRID</td>\n",
       "      <td>ingrid.gonzalez@udea.edu.co</td>\n",
       "      <td>0.0</td>\n",
       "      <td>NaN</td>\n",
       "    </tr>\n",
       "    <tr>\n",
       "      <th>10</th>\n",
       "      <td>1.038102e+09</td>\n",
       "      <td>GUERRA SAAH SARA</td>\n",
       "      <td>sara.guerra1@udea.edu.co</td>\n",
       "      <td>0.0</td>\n",
       "      <td>NaN</td>\n",
       "    </tr>\n",
       "    <tr>\n",
       "      <th>11</th>\n",
       "      <td>1.038125e+09</td>\n",
       "      <td>LOPEZ RODRIGUEZ KEILA XIOMARA</td>\n",
       "      <td>keila.lopez@udea.edu.co</td>\n",
       "      <td>0.0</td>\n",
       "      <td>NaN</td>\n",
       "    </tr>\n",
       "    <tr>\n",
       "      <th>12</th>\n",
       "      <td>1.140883e+09</td>\n",
       "      <td>MARTINEZ VALDIVIESO YESICA ELENA</td>\n",
       "      <td>elena.martinez1@udea.edu.co</td>\n",
       "      <td>0.0</td>\n",
       "      <td>NaN</td>\n",
       "    </tr>\n",
       "    <tr>\n",
       "      <th>13</th>\n",
       "      <td>1.042825e+09</td>\n",
       "      <td>MURILLO CUELLO LICETH PAOLA</td>\n",
       "      <td>liceth.murillo@udea.edu.co</td>\n",
       "      <td>0.0</td>\n",
       "      <td>NaN</td>\n",
       "    </tr>\n",
       "    <tr>\n",
       "      <th>14</th>\n",
       "      <td>1.045137e+09</td>\n",
       "      <td>ORTIZ PERDOMO HEVIZ YULIZA</td>\n",
       "      <td>heviz.ortiz@udea.edu.co</td>\n",
       "      <td>0.0</td>\n",
       "      <td>NaN</td>\n",
       "    </tr>\n",
       "    <tr>\n",
       "      <th>15</th>\n",
       "      <td>1.001161e+09</td>\n",
       "      <td>POLO MARTINEZ ADRIANA MARIA</td>\n",
       "      <td>adriana.polo@udea.edu.co</td>\n",
       "      <td>0.0</td>\n",
       "      <td>NaN</td>\n",
       "    </tr>\n",
       "    <tr>\n",
       "      <th>16</th>\n",
       "      <td>1.063787e+09</td>\n",
       "      <td>QUIROZ ACOSTA KATHERINE</td>\n",
       "      <td>katherine.quiroz1@udea.edu.co</td>\n",
       "      <td>0.0</td>\n",
       "      <td>NaN</td>\n",
       "    </tr>\n",
       "    <tr>\n",
       "      <th>17</th>\n",
       "      <td>1.032248e+09</td>\n",
       "      <td>RIVERA REINO JENIFER</td>\n",
       "      <td>jenifer.rivera@udea.edu.co</td>\n",
       "      <td>0.0</td>\n",
       "      <td>NaN</td>\n",
       "    </tr>\n",
       "  </tbody>\n",
       "</table>\n",
       "</div>"
      ],
      "text/plain": [
       "          Cedula                            Nombre  \\\n",
       "1   1.063787e+09        ALVAREZ PEREZ CARLOS JULIO   \n",
       "2   1.032249e+09              ARRIETA LOPEZ ELIANA   \n",
       "3   1.038647e+09  CARCAMO TABORDA MARCELA PATRICIA   \n",
       "4   1.038101e+09       CARRASCAL BOLANO DULCEMARIA   \n",
       "5   1.038097e+09        CUELLO SALAS DANNA ZHARICK   \n",
       "6   1.038103e+09         DIAZ MERCADO LUIS ESTEBAN   \n",
       "7   1.038646e+09      GENES MARTINEZ DAYANA MICHEL   \n",
       "8   1.001534e+09                GIL POLO VALENTINA   \n",
       "9   1.007768e+09           GONZALEZ TEHERAN INGRID   \n",
       "10  1.038102e+09                  GUERRA SAAH SARA   \n",
       "11  1.038125e+09     LOPEZ RODRIGUEZ KEILA XIOMARA   \n",
       "12  1.140883e+09  MARTINEZ VALDIVIESO YESICA ELENA   \n",
       "13  1.042825e+09       MURILLO CUELLO LICETH PAOLA   \n",
       "14  1.045137e+09        ORTIZ PERDOMO HEVIZ YULIZA   \n",
       "15  1.001161e+09       POLO MARTINEZ ADRIANA MARIA   \n",
       "16  1.063787e+09           QUIROZ ACOSTA KATHERINE   \n",
       "17  1.032248e+09              RIVERA REINO JENIFER   \n",
       "\n",
       "                               Email  Parcial  Asistencia  \n",
       "1       carlos.alvarez19@udea.edu.co      0.0         NaN  \n",
       "2              e.arrieta@udea.edu.co      0.0         NaN  \n",
       "3        marcela.carcamo@udea.edu.co      0.0         NaN  \n",
       "4   dulcemaria.carrascal@udea.edu.co      0.0         NaN  \n",
       "5        dzharick.cuello@udea.edu.co      0.0         NaN  \n",
       "6          esteban.diaz1@udea.edu.co      0.0         NaN  \n",
       "7           dayana.genes@udea.edu.co      0.0         NaN  \n",
       "8         valentina.gilp@udea.edu.co      0.0         NaN  \n",
       "9        ingrid.gonzalez@udea.edu.co      0.0         NaN  \n",
       "10          sara.guerra1@udea.edu.co      0.0         NaN  \n",
       "11           keila.lopez@udea.edu.co      0.0         NaN  \n",
       "12       elena.martinez1@udea.edu.co      0.0         NaN  \n",
       "13        liceth.murillo@udea.edu.co      0.0         NaN  \n",
       "14           heviz.ortiz@udea.edu.co      0.0         NaN  \n",
       "15          adriana.polo@udea.edu.co      0.0         NaN  \n",
       "16     katherine.quiroz1@udea.edu.co      0.0         NaN  \n",
       "17        jenifer.rivera@udea.edu.co      0.0         NaN  "
      ]
     },
     "execution_count": 7,
     "metadata": {},
     "output_type": "execute_result"
    }
   ],
   "source": [
    "import pandas as pd\n",
    "import numpy as np\n",
    "\n",
    "# Cargar la lista de estudiantes desde el archivo CSV\n",
    "path = 'C:/Users/marco/Documentos/docencia/groups_list/infantil.xlsx'\n",
    "estudiantes = pd.read_excel(path)\n",
    "estudiantes.index = range(1, len(estudiantes) + 1)\n",
    "estudiantes.head(17) "
   ]
  },
  {
   "cell_type": "code",
   "execution_count": 8,
   "id": "5f329d34",
   "metadata": {},
   "outputs": [
    {
     "name": "stdout",
     "output_type": "stream",
     "text": [
      "Llamando a ROMERO TORRES DANIELA SOFIA...\n",
      "Actualizado: ROMERO TORRES DANIELA SOFIA ahora tiene 0.3 en la columna 'Parcial'.\n",
      "Llamando a LOPEZ RODRIGUEZ KEILA XIOMARA...\n",
      "Actualizado: LOPEZ RODRIGUEZ KEILA XIOMARA ahora tiene 0.3 en la columna 'Parcial'.\n",
      "Llamando a POLO MARTINEZ ADRIANA MARIA...\n",
      "Actualizado: POLO MARTINEZ ADRIANA MARIA ahora tiene 0.3 en la columna 'Parcial'.\n",
      "Llamando a ARRIETA LOPEZ ELIANA...\n",
      "Actualizado: ARRIETA LOPEZ ELIANA ahora tiene 0.3 en la columna 'Parcial'.\n",
      "Llamando a GONZALEZ TEHERAN INGRID...\n",
      "Actualizado: GONZALEZ TEHERAN INGRID ahora tiene 0.3 en la columna 'Parcial'.\n",
      "Llamando a RIVERA REINO JENIFER...\n",
      "Actualizado: RIVERA REINO JENIFER ahora tiene 0.3 en la columna 'Parcial'.\n",
      "Llamando a MURILLO CUELLO LICETH PAOLA...\n",
      "Actualizado: MURILLO CUELLO LICETH PAOLA ahora tiene 0.3 en la columna 'Parcial'.\n",
      "Llamando a ORTIZ PERDOMO HEVIZ YULIZA...\n",
      "Actualizado: ORTIZ PERDOMO HEVIZ YULIZA ahora tiene 0.3 en la columna 'Parcial'.\n",
      "Llamando a CARRASCAL BOLANO DULCEMARIA...\n",
      "Actualizado: CARRASCAL BOLANO DULCEMARIA ahora tiene 0.3 en la columna 'Parcial'.\n",
      "Llamando a MARTINEZ VALDIVIESO YESICA ELENA...\n",
      "Actualizado: MARTINEZ VALDIVIESO YESICA ELENA ahora tiene 0.3 en la columna 'Parcial'.\n",
      "Llamando a DIAZ ESTRADA MAYERLIS...\n",
      "Actualizado: DIAZ ESTRADA MAYERLIS ahora tiene 0.3 en la columna 'Parcial'.\n",
      "Llamando a GENES MARTINEZ DAYANA MICHEL...\n",
      "Actualizado: GENES MARTINEZ DAYANA MICHEL ahora tiene 0.3 en la columna 'Parcial'.\n",
      "Llamando a CARCAMO TABORDA MARCELA PATRICIA...\n",
      "Actualizado: CARCAMO TABORDA MARCELA PATRICIA ahora tiene 0.3 en la columna 'Parcial'.\n",
      "Llamando a GIL POLO VALENTINA...\n",
      "Actualizado: GIL POLO VALENTINA ahora tiene 0.3 en la columna 'Parcial'.\n",
      "Llamando a ALVAREZ PEREZ CARLOS JULIO...\n",
      "Actualizado: ALVAREZ PEREZ CARLOS JULIO ahora tiene 0.3 en la columna 'Parcial'.\n",
      "Llamando a GUERRA SAAH SARA...\n",
      "Actualizado: GUERRA SAAH SARA ahora tiene 0.3 en la columna 'Parcial'.\n",
      "Llamando a DIAZ MERCADO LUIS ESTEBAN...\n",
      "Actualizado: DIAZ MERCADO LUIS ESTEBAN ahora tiene 0.3 en la columna 'Parcial'.\n",
      "Llamando a CUELLO SALAS DANNA ZHARICK...\n",
      "Actualizado: CUELLO SALAS DANNA ZHARICK ahora tiene 0.3 en la columna 'Parcial'.\n",
      "Llamando a QUIROZ ACOSTA KATHERINE...\n",
      "Actualizado: QUIROZ ACOSTA KATHERINE ahora tiene 0.3 en la columna 'Parcial'.\n",
      "Llamando a maria camila...\n",
      "Actualizado: maria camila ahora tiene nan en la columna 'Parcial'.\n",
      "Llamando a adaluz...\n",
      "Actualizado: adaluz ahora tiene nan en la columna 'Parcial'.\n",
      "Cambios guardados en el archivo CSV.\n"
     ]
    }
   ],
   "source": [
    "# Convertir la columna 'Nombre' a una lista de Python\n",
    "lista_estudiantes = estudiantes['Nombre'].tolist()\n",
    "\n",
    "# Función para llamar a un estudiante aleatoriamente y registrar su nota de seguimiento\n",
    "def asistencia():\n",
    "    global lista_estudiantes\n",
    "    if lista_estudiantes:\n",
    "        estudiante_aleatorio = np.random.choice(lista_estudiantes)\n",
    "        print(f\"Llamando a {estudiante_aleatorio}...\")\n",
    "        asistencia = input(f\"¿Asistió {estudiante_aleatorio}? (s/n): \").strip().lower()\n",
    "        \n",
    "        # Validación de entrada\n",
    "        if asistencia == 's':\n",
    "            # Obtener el índice del estudiante en el DataFrame\n",
    "            indice = estudiantes[estudiantes['Nombre'] == estudiante_aleatorio].index[0]\n",
    "            # Incrementar su valor en la columna 'Parcial'\n",
    "            estudiantes.at[indice, 'Parcial'] += 0.3\n",
    "            print(f\"Actualizado: {estudiante_aleatorio} ahora tiene {estudiantes.at[indice, 'Parcial']} en la columna 'Parcial'.\")\n",
    "        \n",
    "        elif asistencia != 'n':\n",
    "            print(\"Entrada inválida. Por favor, introduce 's' para sí o 'n' para no.\")\n",
    "            return  # Volver a preguntar para el mismo estudiante si la entrada es inválida\n",
    "        \n",
    "        # Remover al estudiante de la lista para no llamarlo de nuevo\n",
    "        lista_estudiantes.remove(estudiante_aleatorio)\n",
    "    else:\n",
    "        print(\"Se han llamado a todos los estudiantes del grupo completo.\")\n",
    "\n",
    "# Función para guardar cambios al final de la sesión\n",
    "def guardar_cambios():\n",
    "    estudiantes.to_csv(path, index=False)\n",
    "    print(\"Cambios guardados en el archivo CSV.\")\n",
    "\n",
    "# Ejemplo de uso\n",
    "while lista_estudiantes:\n",
    "    asistencia()\n",
    "\n",
    "# Guardar los cambios una vez que todos los estudiantes hayan sido llamados\n",
    "guardar_cambios()\n",
    "\n"
   ]
  },
  {
   "cell_type": "markdown",
   "id": "d7598d0a-d9b7-4ae0-b029-a0ed6ed1130b",
   "metadata": {},
   "source": [
    "\n",
    "# Principios de mi labor docente"
   ]
  },
  {
   "cell_type": "markdown",
   "id": "4f9d8cf9",
   "metadata": {
    "slideshow": {
     "slide_type": "slide"
    }
   },
   "source": [
    "## Modelo general de clase: [aula invertida](https://www3.gobiernodecanarias.org/medusa/ecoescuela/pedagotic/aprendizaje-invertido-flipped-classroom/)"
   ]
  },
  {
   "cell_type": "markdown",
   "id": "eb6ed03a",
   "metadata": {},
   "source": [
    "<img src = 'https://resources.maneuveringthemiddle.com/wp-content/uploads/2020/07/04212706/1-5.png' width = 200>  \n",
    "\n"
   ]
  },
  {
   "cell_type": "markdown",
   "id": "34319cce-a71b-4f64-aab8-b53e521efa40",
   "metadata": {},
   "source": [
    "# Metodología de enseñanza basada en problemas (ABP)\n"
   ]
  },
  {
   "cell_type": "markdown",
   "id": "c4f73d81",
   "metadata": {},
   "source": [
    "\n",
    "<img src = 'https://www.unir.net/wp-content/uploads/2020/07/aprendizaje-problemas2-1-1-1-1.jpeg' width = 200>"
   ]
  },
  {
   "cell_type": "markdown",
   "id": "841a985c-bd9b-4dd3-8e4c-893983980af2",
   "metadata": {},
   "source": [
    "# Desarrollo del pensamiento computacional con python y cuadernos Jupyter  orientado a la formación en ciencia de datos \n",
    "\n"
   ]
  },
  {
   "cell_type": "markdown",
   "id": "3d0eba94",
   "metadata": {},
   "source": [
    "\n",
    "<img src = 'https://i.ytimg.com/vi/mcG_wcR4e6M/maxresdefault.jpg' width = 200>"
   ]
  },
  {
   "cell_type": "markdown",
   "id": "65aa0404-f7ae-495e-864c-1aec01b4255e",
   "metadata": {},
   "source": [
    "# Principio de fomento a la ciencia abierta, enseñar en el acceso a los datos públicos y el uso de software de código abierto  \n"
   ]
  },
  {
   "cell_type": "markdown",
   "id": "18ae9b87",
   "metadata": {},
   "source": [
    "\n",
    "<img src = 'https://unesdoc.unesco.org/in/rest/Thumb/image?id=p%3A%3Ausmarcdef_0000379949_spa&author=UNESCO&title=Recomendaci%C3%B3n+de+la+UNESCO+sobre+la+Ciencia+Abierta&year=2021&publisher=UNESCO&TypeOfDocument=UnescoPhysicalDocument&mat=PGD&ct=true&size=512&isPhysical=1' width = 200>"
   ]
  },
  {
   "cell_type": "markdown",
   "id": "d9559f85",
   "metadata": {},
   "source": [
    "El enfoque STEAMS en educación preescolar, primaria y secundaria es una extensión del enfoque STEM (Ciencia, Tecnología, Ingeniería y Matemáticas) y su variante STEAM, que incorpora el Arte. "
   ]
  },
  {
   "cell_type": "markdown",
   "id": "72e1cfd2",
   "metadata": {},
   "source": [
    "El acrónimo STEAMS incluye:\n"
   ]
  },
  {
   "cell_type": "markdown",
   "id": "03182fd1",
   "metadata": {},
   "source": [
    "\n",
    "1. **Science (Ciencia):** Fomenta la curiosidad por el mundo natural y el desarrollo de habilidades científicas, como la observación, experimentación y análisis.\n"
   ]
  },
  {
   "cell_type": "markdown",
   "id": "1306d0fa",
   "metadata": {},
   "source": [
    "\n",
    "2. **Technology (Tecnología):** Integra herramientas tecnológicas para potenciar el aprendizaje y la resolución de problemas, promoviendo la alfabetización digital desde edades tempranas.\n"
   ]
  },
  {
   "cell_type": "markdown",
   "id": "3b1a53e8",
   "metadata": {},
   "source": [
    "\n",
    "3. **Engineering (Ingeniería):** Introduce el pensamiento lógico y la resolución de problemas estructurados, fomentando habilidades como el diseño y la construcción de soluciones.\n"
   ]
  },
  {
   "cell_type": "markdown",
   "id": "0196de87",
   "metadata": {},
   "source": [
    "\n",
    "4. **Arts (Arte):** Añade creatividad y pensamiento crítico, permitiendo a los estudiantes expresarse y explorar el aprendizaje a través de formas artísticas (plásticas, música, teatro).\n"
   ]
  },
  {
   "cell_type": "markdown",
   "id": "8bcc485a",
   "metadata": {},
   "source": [
    "\n",
    "5. **Mathematics (Matemáticas):** Refuerza las habilidades numéricas y el razonamiento lógico, fundamentales en la resolución de problemas y comprensión de conceptos abstractos.\n"
   ]
  },
  {
   "cell_type": "markdown",
   "id": "907935f4",
   "metadata": {},
   "source": [
    "\n",
    "6. **Social Sciences (Ciencias Sociales):** Incorpora la comprensión del entorno social, político, cultural y económico, promoviendo el desarrollo de la conciencia crítica sobre el mundo y su historia, además de habilidades de empatía y ciudadanía.\n"
   ]
  },
  {
   "cell_type": "markdown",
   "id": "39967d63",
   "metadata": {},
   "source": [
    "\n",
    "El enfoque STEAMS pretende desarrollar un aprendizaje **interdisciplinario** que integre estas áreas para fomentar un pensamiento más holístico y práctico. "
   ]
  },
  {
   "cell_type": "markdown",
   "id": "5145f077",
   "metadata": {},
   "source": [
    "Se busca que los estudiantes no solo aprendan conocimientos técnicos, sino también cómo aplicarlos creativa y críticamente en situaciones reales, promoviendo habilidades como el trabajo en equipo, la comunicación y la innovación. "
   ]
  },
  {
   "cell_type": "markdown",
   "id": "9d556584",
   "metadata": {},
   "source": [
    "En educación preescolar, primaria, secundaria y superior, se adapta a las diferentes etapas de desarrollo cognitivo y emocional de los estudiantes, promoviendo el aprendizaje activo y contextualizado.  \n"
   ]
  },
  {
   "cell_type": "markdown",
   "id": "0130ec1b",
   "metadata": {},
   "source": [
    "\n",
    "<img src = 'https://www.campuseducacion.com/blog/wp-content/uploads/2023/03/foto01-1.jpg' width = 200>"
   ]
  },
  {
   "cell_type": "markdown",
   "id": "9d15c10d-2c02-4158-9419-b1ed79b4c1ee",
   "metadata": {},
   "source": [
    "# Qué estamos haciendo por la internalización en esta clase y este curso  \n"
   ]
  },
  {
   "cell_type": "markdown",
   "id": "6e4feef2",
   "metadata": {},
   "source": [
    "Estas son mis acciones como docente de matemáticas en la Universidad de Antioquia con miras a la **internacionalización** de mi práctica docente y el desarrollo de competencias internacionales para mis estudiantes, ls cuales he estructurado con el siguiente enfoque:\n"
   ]
  },
  {
   "cell_type": "markdown",
   "id": "964d9de7-53ee-4255-9bcd-d8e6454f2993",
   "metadata": {},
   "source": [
    "### 1. **Visión Global en la Formación Académica**\n"
   ]
  },
  {
   "cell_type": "markdown",
   "id": "d9bdd3e2",
   "metadata": {},
   "source": [
    "   - **Competencias Internacionales**: Asegúrate de que el contenido de tus cursos fomente habilidades que sean reconocidas globalmente. Al educar a los estudiantes en **Python, LaTeX, Markdown y Jupyter Notebooks** y en la **introducción a la ciencia de datos y técnicas de Machine Learning**, estás proporcionando competencias altamente demandadas en los sectores tecnológicos y académicos a nivel internacional.\n"
   ]
  },
  {
   "cell_type": "markdown",
   "id": "39b55206",
   "metadata": {},
   "source": [
    "   - **Relevancia de los Contenidos**: Destaca cómo los temas que enseñas, como el **desarrollo del pensamiento computacional** y la **ciencia de datos**, están alineados con las necesidades globales actuales en diversas industrias, desde la tecnología hasta las ciencias naturales y sociales.\n"
   ]
  },
  {
   "cell_type": "markdown",
   "id": "a054599e",
   "metadata": {},
   "source": [
    "   - **Referencias a Estándares Internacionales**: Puedes vincular tu enseñanza a estándares internacionales de competencias en programación y ciencia de datos (por ejemplo, frameworks del **IEEE, ACM**, y estándares de la **data science** o la **computación en la nube**)."
   ]
  },
  {
   "cell_type": "markdown",
   "id": "0f1d110c-3142-48fe-9e7d-5fbd9e8bb931",
   "metadata": {},
   "source": [
    "### 2. **Innovación Pedagógica con Enfoque Internacional**\n"
   ]
  },
  {
   "cell_type": "markdown",
   "id": "fae6ae34",
   "metadata": {},
   "source": [
    "   - **Aula Invertida y ABP**: Presenta cómo tu enfoque de **aula invertida** y **aprendizaje basado en problemas (ABP)** permite a los estudiantes trabajar de manera autónoma y colaborativa, lo que los prepara para escenarios laborales internacionales que requieren autoaprendizaje y habilidades de resolución de problemas en equipo.\n"
   ]
  },
  {
   "cell_type": "markdown",
   "id": "c83062d9",
   "metadata": {},
   "source": [
    "   - **Uso de Jupyter Notebooks**: El uso de **Jupyter Notebooks** en tus clases no solo facilita la **integración de código, matemáticas y texto**, sino que también es una plataforma utilizada globalmente en ambientes académicos y profesionales, lo que hace a tus estudiantes más competitivos internacionalmente."
   ]
  },
  {
   "cell_type": "markdown",
   "id": "960d52b7-03cd-4eb3-965e-5cdfeb7d9f8e",
   "metadata": {},
   "source": [
    "### 3. **Tecnología y Herramientas de Uso Global**\n"
   ]
  },
  {
   "cell_type": "markdown",
   "id": "4be7269f",
   "metadata": {},
   "source": [
    "   - **Lenguaje Python**: Python es uno de los lenguajes de programación más usados a nivel mundial, tanto en la academia como en la industria. Al formar a tus estudiantes en Python para ciencia de datos y machine learning, los preparas para operar en entornos tecnológicos globales.\n"
   ]
  },
  {
   "cell_type": "markdown",
   "id": "102655af",
   "metadata": {},
   "source": [
    "   - **Herramientas de Ciencia Abierta**: Resalta cómo herramientas como **GitHub**, **Google Colab** y otras plataformas de código abierto están alineadas con el movimiento de **ciencia abierta**, el cual es internacionalmente reconocido y permite que los estudiantes colaboren y compartan proyectos a nivel global."
   ]
  },
  {
   "cell_type": "markdown",
   "id": "3b2ffa32-7a6f-4545-ba7b-c6a69f51109f",
   "metadata": {},
   "source": [
    "### 4. **Investigación y Publicaciones Internacionales**\n"
   ]
  },
  {
   "cell_type": "markdown",
   "id": "bdbf52a5",
   "metadata": {},
   "source": [
    "   - **Promoción de la Investigación**: Detalla cómo promueves que tus estudiantes participen en proyectos de **investigación aplicada**, con posibilidad de publicación en revistas internacionales. "
   ]
  },
  {
   "cell_type": "markdown",
   "id": "c2f23598",
   "metadata": {},
   "source": [
    "Esto contribuye a la reputación internacional de la Universidad de Antioquia.\n"
   ]
  },
  {
   "cell_type": "markdown",
   "id": "ea01fcbc",
   "metadata": {},
   "source": [
    "   - **Colaboraciones Internacionales**: Si has colaborado con investigadores de otras instituciones o universidades en el extranjero, menciona estos proyectos y cómo han enriquecido tu enseñanza y proporcionado a los estudiantes una visión más globalizada."
   ]
  },
  {
   "cell_type": "markdown",
   "id": "5d1e396e-aece-4bf7-9421-32fa7809eaf4",
   "metadata": {},
   "source": [
    "## 5. **Uso del Inglés para la Internacionalización**\n"
   ]
  },
  {
   "cell_type": "markdown",
   "id": "29cabf26",
   "metadata": {},
   "source": [
    "   - **Comunicación Científica en Inglés**: Fomentar el aprendizaje del inglés como lengua científica es clave para que tus estudiantes puedan acceder a publicaciones internacionales, conferencias, y material académico que no está disponible en español. Esto es esencial para que adquieran competencias que les permitan desempeñarse en cualquier contexto internacional.\n"
   ]
  },
  {
   "cell_type": "markdown",
   "id": "e1f407fd",
   "metadata": {},
   "source": [
    "   - **Material Bilingüe**: Al generar material educativo en Python, LaTeX y Markdown, considera ofrecer algunos de estos recursos en inglés, para que los estudiantes se familiaricen con el vocabulario técnico y científico internacional."
   ]
  },
  {
   "cell_type": "markdown",
   "id": "c6a8c3b0-426a-4692-a384-3065aea81c9a",
   "metadata": {},
   "source": [
    "### 6. **Certificaciones y Estándares Internacionales**\n"
   ]
  },
  {
   "cell_type": "markdown",
   "id": "b1f41da5",
   "metadata": {},
   "source": [
    "   - **Participación en Certificaciones Internacionales**: Impulsa que los estudiantes busquen certificaciones internacionales en Python o ciencia de datos (como las ofrecidas por **Coursera, edX,** o **Google**). Estas certificaciones no solo validan sus competencias, sino que también incrementan el reconocimiento de la Universidad de Antioquia en el contexto internacional.\n"
   ]
  },
  {
   "cell_type": "markdown",
   "id": "7cc66317",
   "metadata": {},
   "source": [
    "   - **Alineación con Acreditaciones Internacionales**: Vincula tu trabajo docente con los estándares de acreditación y certificación que garantizan que la universidad siga siendo reconocida internacionalmente. "
   ]
  },
  {
   "cell_type": "markdown",
   "id": "28b4170c",
   "metadata": {},
   "source": [
    "Puedes vincularte con organizaciones internacionales que promuevan la excelencia en la educación y tecnología, como **ABET** para la acreditación en ingeniería y ciencias computacionales."
   ]
  },
  {
   "cell_type": "markdown",
   "id": "65d3d9e1-ea84-43e0-8197-a2a9c9e21594",
   "metadata": {},
   "source": [
    "### 7. **Proyectos Abiertos y Ciencia Reproducible**\n"
   ]
  },
  {
   "cell_type": "markdown",
   "id": "29f50dfc",
   "metadata": {},
   "source": [
    "   - **GitHub y Open Science**: La utilización de **GitHub** para almacenar los proyectos y materiales de enseñanza en repositorios públicos permite que otros investigadores y educadores internacionales puedan revisar y replicar tu trabajo. Esto contribuye a la creación de una red de colaboración científica abierta.\n"
   ]
  },
  {
   "cell_type": "markdown",
   "id": "ba7554be",
   "metadata": {},
   "source": [
    "   - **Transparencia y Reproducibilidad**: La ciencia de datos y machine learning están profundamente ligados a la reproducibilidad. Asegura que tus estudiantes desarrollen prácticas de transparencia y documentación en la investigación, que son pilares en la comunidad científica global.\n"
   ]
  },
  {
   "cell_type": "markdown",
   "id": "215cb551",
   "metadata": {},
   "source": [
    "\n",
    "### 8. **Participación en Redes y Conferencias Internacionales**\n",
    "   - **Presentación en Conferencias Internacionales**: Destaca cómo tu participación en conferencias internacionales (como la **ASCOLFA** o eventos sobre educación en matemáticas) contribuye al prestigio de la universidad y permite que tus prácticas sean evaluadas y reconocidas a nivel global.\n"
   ]
  },
  {
   "cell_type": "markdown",
   "id": "cdf46e29",
   "metadata": {},
   "source": [
    "   - **Promoción de Estudiantes en Eventos Internacionales**: Impulsa la participación de tus estudiantes en competiciones internacionales de programación o hackathons, como los organizados por **Google**, **ACM** o **Kaggle**. Esto no solo desarrolla sus habilidades, sino que también visibiliza el talento de la Universidad de Antioquia a nivel global.\n",
    "\n",
    "---"
   ]
  },
  {
   "cell_type": "markdown",
   "id": "233294a4-1983-4641-a7ad-866825e02315",
   "metadata": {},
   "source": [
    "Con esta estrategia, presento mis acciones docentes en términos de competencias internacionales, innovación pedagógica, tecnología, investigación y participación en redes globales, asegurando que mi práctica esté alineada con los estándares internacionales y que tus estudiantes estén preparados para competir en contextos internacionales."
   ]
  },
  {
   "cell_type": "markdown",
   "id": "77da458b",
   "metadata": {},
   "source": [
    "### **Metodología de Enseñanza: Aprendizaje Basado en Problemas y Proyectos (ABPP)**\n"
   ]
  },
  {
   "cell_type": "markdown",
   "id": "c943d273",
   "metadata": {},
   "source": [
    "\n",
    "El **Aprendizaje Basado en Problemas y Proyectos (ABPP)** es una metodología educativa que integra los enfoques del **Aprendizaje Basado en Problemas (ABP)** y el **Aprendizaje Basado en Proyectos (PBL, por sus siglas en inglés)**. "
   ]
  },
  {
   "cell_type": "markdown",
   "id": "26c89322",
   "metadata": {},
   "source": [
    "Es especialmente útil para la formación de futuros docentes, ingenieros y administradores, ya que combina el desarrollo de habilidades prácticas con el pensamiento crítico y reflexivo. A continuación, se presenta una descripción adaptada a la enseñanza de las matemáticas en educación infantil, Licenciatura en Matemáticas, Ingeniería Agropecuaria y Administración de Empresas:\n",
    "\n",
    "---\n"
   ]
  },
  {
   "cell_type": "markdown",
   "id": "0eeba3f5",
   "metadata": {},
   "source": [
    "\n",
    "### **1. Fundamentos del ABPP**\n",
    "El ABPP se basa en:\n",
    "- **Resolución de Problemas Reales:** Los estudiantes analizan y resuelven problemas auténticos relacionados con su área de formación, fomentando la aplicación práctica del conocimiento.\n"
   ]
  },
  {
   "cell_type": "markdown",
   "id": "a3ad8680",
   "metadata": {},
   "source": [
    "- **Proyectos como Herramientas Integradoras:** Los proyectos permiten desarrollar habilidades interdisciplinarias y ofrecer soluciones concretas a los problemas planteados.\n",
    "- **Aprendizaje Activo:** Los estudiantes son responsables de su aprendizaje y participan activamente en el proceso de investigación, diseño y solución.\n",
    "\n",
    "---\n"
   ]
  },
  {
   "cell_type": "markdown",
   "id": "3728d010",
   "metadata": {},
   "source": [
    "\n",
    "### **2. Aplicación del ABPP en Áreas Específicas**\n"
   ]
  },
  {
   "cell_type": "markdown",
   "id": "6ca107aa",
   "metadata": {},
   "source": [
    "\n",
    "#### **Educación Infantil (Licenciatura en Educación Infantil)**\n",
    "- **Enfoque:** Desarrollo del pensamiento matemático en la infancia desde contextos lúdicos, familiares y culturales.\n"
   ]
  },
  {
   "cell_type": "markdown",
   "id": "6e71795c",
   "metadata": {},
   "source": [
    "- **Problemas típicos:** \n",
    "  - ¿Cómo enseñar los números naturales mediante actividades prácticas y juegos?\n",
    "  - ¿Qué estrategias pueden emplearse para abordar el concepto de cantidad en edades tempranas?\n",
    "- **Proyectos:** Diseño de secuencias didácticas que usen Python, Jupyter Notebooks y materiales manipulativos para enseñar matemáticas de forma interactiva.\n"
   ]
  },
  {
   "cell_type": "markdown",
   "id": "382bf999",
   "metadata": {},
   "source": [
    "- **Competencias desarrolladas:** \n",
    "  - Uso de herramientas tecnológicas para diseñar actividades educativas.\n",
    "  - Comprensión del desarrollo cognitivo infantil y su relación con las matemáticas.\n"
   ]
  },
  {
   "cell_type": "markdown",
   "id": "481f614a",
   "metadata": {},
   "source": [
    "\n",
    "#### **Licenciatura en Matemáticas**\n",
    "- **Enfoque:** Resolución de problemas matemáticos aplicados y profundización teórica en áreas como análisis matemático y modelado.\n",
    "- **Problemas típicos:**\n",
    "  - ¿Cómo se pueden resolver ecuaciones diferenciales aplicadas a modelos físicos o económicos?\n",
    "  - ¿Cómo modelar fenómenos naturales mediante funciones matemáticas?\n"
   ]
  },
  {
   "cell_type": "markdown",
   "id": "9489b297",
   "metadata": {},
   "source": [
    "- **Proyectos:** \n",
    "  - Desarrollo de software educativo para explorar conceptos matemáticos.\n",
    "  - Aplicación de modelado matemático para resolver problemas reales en otras disciplinas.\n",
    "- **Competencias desarrolladas:**\n",
    "  - Dominio de la matemática teórica y aplicada.\n",
    "  - Uso de tecnología para la enseñanza y la investigación.\n"
   ]
  },
  {
   "cell_type": "markdown",
   "id": "83ab236f",
   "metadata": {},
   "source": [
    "\n",
    "#### **Ingeniería Agropecuaria**\n",
    "- **Enfoque:** Modelado matemático y análisis de datos para mejorar la producción agrícola y la gestión de recursos.\n",
    "- **Problemas típicos:**\n",
    "  - ¿Cómo modelar el crecimiento de cultivos considerando variables climáticas?\n",
    "  - ¿Cómo optimizar el uso del agua en sistemas de riego mediante análisis matemático?\n",
    "- **Proyectos:** \n",
    "  - Desarrollo de modelos predictivos con Python y bibliotecas de aprendizaje automático.\n",
    "  - Implementación de proyectos que combinen matemáticas y ciencias de datos para resolver problemas agrícolas.\n",
    "- **Competencias desarrolladas:**\n",
    "  - Integración de matemáticas con tecnologías avanzadas.\n",
    "  - Resolución de problemas agropecuarios mediante análisis y modelado.\n"
   ]
  },
  {
   "cell_type": "markdown",
   "id": "c4519bb3",
   "metadata": {},
   "source": [
    "\n",
    "#### **Administración de Empresas**\n",
    "- **Enfoque:** Uso de las matemáticas y la ciencia de datos para la toma de decisiones estratégicas.\n",
    "- **Problemas típicos:**\n",
    "  - ¿Cómo identificar patrones de comportamiento del consumidor usando series de tiempo?\n",
    "  - ¿Qué estrategias matemáticas pueden optimizar la asignación de recursos en una empresa?\n",
    "- **Proyectos:** \n",
    "  - Implementación de modelos de análisis financiero y simulaciones.\n",
    "  - Desarrollo de dashboards interactivos para la gestión de datos empresariales.\n",
    "- **Competencias desarrolladas:**\n",
    "  - Habilidad para interpretar datos matemáticos en contextos de negocio.\n",
    "  - Capacidad para diseñar soluciones basadas en datos.\n",
    "\n",
    "---\n"
   ]
  },
  {
   "cell_type": "markdown",
   "id": "19be58d4",
   "metadata": {},
   "source": [
    "\n",
    "### **3. Beneficios del ABPP**\n",
    "- **Desarrollo de competencias clave:**\n",
    "  - Pensamiento crítico y creativo.\n",
    "  - Trabajo colaborativo.\n",
    "  - Comunicación efectiva.\n",
    "  - Uso de herramientas tecnológicas avanzadas.\n",
    "- **Adaptación al contexto laboral:** Los estudiantes aprenden a enfrentar desafíos del mundo real y a diseñar soluciones prácticas y aplicables.\n",
    "- **Flexibilidad e interdisciplinariedad:** La metodología se adapta a diversas áreas, fomentando el aprendizaje integrado.\n",
    "\n",
    "---\n"
   ]
  },
  {
   "cell_type": "markdown",
   "id": "e36034c3",
   "metadata": {},
   "source": [
    "\n",
    "### **4. Ejemplo General de Implementación**\n",
    "1. **Identificación del problema:** Se plantea un desafío concreto, como modelar el crecimiento poblacional de una comunidad rural (Ingeniería Agropecuaria) o diseñar una estrategia para enseñar fracciones a niños de 8 años (Educación Infantil).\n",
    "2. **Formación de equipos:** Los estudiantes trabajan en grupos, distribuyendo roles y tareas.\n",
    "3. **Investigación y diseño:** Los estudiantes investigan el problema, proponen soluciones y diseñan un proyecto.\n",
    "4. **Implementación:** Se desarrolla el proyecto, como una herramienta tecnológica o una propuesta pedagógica.\n",
    "5. **Evaluación:** Los estudiantes presentan sus resultados en un informe o una exposición, recibiendo retroalimentación de sus compañeros y docentes.\n",
    "\n",
    "---\n",
    "\n",
    "El ABPP es una metodología versátil que conecta el conocimiento teórico con la práctica, preparando a los estudiantes para los retos de sus profesiones en la enseñanza de la matemática, la ingeniería y la administración."
   ]
  },
  {
   "cell_type": "markdown",
   "id": "8d97dc80",
   "metadata": {
    "slideshow": {
     "slide_type": "slide"
    }
   },
   "source": [
    "## Fomento de la lectura literaria asociada a Ingeniería agropecuaria y licenciatura en Matemáticas\n",
    "\n",
    "[Aprender a obtener el sí sin ceder]()"
   ]
  },
  {
   "cell_type": "markdown",
   "id": "96775931",
   "metadata": {
    "slideshow": {
     "slide_type": "slide"
    }
   },
   "source": [
    "## Título de la clase: Taller de formación de maestros de educación infantil para grado tercero de primaria en cuanto a el primer indicador de los DBA: Interpreta, formula y resuelve problemas aditivos de composición, transformación y comparación en diferentes contextos; y multiplicativos, directos e inversos, en diferentes contextos. \n",
    "\n"
   ]
  },
  {
   "cell_type": "code",
   "execution_count": 4,
   "id": "6ff395c3",
   "metadata": {},
   "outputs": [],
   "source": [
    "# Traducción del inglés al español con python\n",
    "\n",
    "def traducir(texto):\n",
    "    from googletrans import Translator\n",
    "\n",
    "    translator = Translator() # instancia la clase \n",
    "\n",
    "    # Traducir al español\n",
    "    translation = translator.translate(texto, src='en', dest='es')\n",
    "    return translation.text"
   ]
  },
  {
   "cell_type": "code",
   "execution_count": 5,
   "id": "b583f414-ac87-4912-8a86-b338234d83d7",
   "metadata": {},
   "outputs": [
    {
     "data": {
      "text/plain": [
       "'Hola'"
      ]
     },
     "execution_count": 5,
     "metadata": {},
     "output_type": "execute_result"
    }
   ],
   "source": [
    "traducir('Hi')"
   ]
  },
  {
   "cell_type": "markdown",
   "id": "10e55ccf",
   "metadata": {},
   "source": [
    "# Estructura general para todas las clases\n",
    "\n",
    "Dame, por favor, un diseño de clase, con el enfoque: STEAMS y de aprendizaje basado en problemas y proyectos(ABPP) sobre: \"Problemas aditivos y multiplicativos en tercer grado de educación primaria\" siguiendo la estructura:  \n",
    "\n",
    "1. Título de la clase \n",
    "2. Objetivos de aprendizaje que incluyan los indicadores del logro de estos objetivos. Ten en cuenta el siguiente objetivo: \".Interpreta, formula y resuelve problemas aditivos de composición, transformación y comparación en diferentes contextos; y multiplicativos, directos e inversos, en diferentes contextos.\" y los siguientes indicadores dados por los DBA del Ministerio de Educación Nacional de Colombia:  \n",
    "     * Construye diagramas para representar las relaciones observadas entre las cantidades presentes en una situación. \n",
    "     * Resuelve problemas aditivos (suma o resta) y multiplicativos (multiplicación o división) de composición de medida y de conteo. \n",
    "     * Propone estrategias para calcular el número de combinaciones posibles de un conjunto de atributos. \n",
    "     * Analiza los resultados ofrecidos por el cálculo matemático e identifica las condiciones bajo las cuales ese resultado es o no plausible.\n",
    "3. Contenido de la clase  \n",
    "4. Un mapa conceptual que resuma la clase elaborado en Graphviz de python con nodos y edges de diferentes formas, colores y rellenos y renderizado en la siguiente ubicación: `\"C:\\Users\\marco\\Descargas\"`  \n",
    "5. Elementos históricos y epistemológicos relevantes para la clase y enunciados con ilustraciones para niños de 8 años. \n",
    "6. Actividades de aprendizaje que incluyan componente lúdico, cotidiano y artístico.  \n",
    "7. Incluye una canción o un poema que ayude a interiorizar y fijar los conceptos asociados a esta clase. \n",
    "8. Tarea o actividades de ejercitación y fijación  \n",
    "9.  Evaluación incluyendo diez proyextos, un ejemplo de quiz y un ejemplo de parcial\n",
    "10. Diseño de actividad de retroalimentación.  \n",
    "11. Dame un vocabulario y frases del idioma inglés asociadas a esta clase.    \n",
    "\n",
    "Pero  que este diseño sea para que el estudiante pueda aprender experimentando en cuadernos Jupyter con funciones de usuario y animaciones y visualizaciones en python. En particular utiliza NumPy, Pandas, Sympy, Matplotlib.pyplot, plotly, Seaborn, matplotlib.animation, ipywidgets. "
   ]
  },
  {
   "cell_type": "markdown",
   "id": "239427f7",
   "metadata": {},
   "source": [
    "Página 22 de los DBA de matemáticas.  \n"
   ]
  },
  {
   "cell_type": "markdown",
   "id": "b5e035eb",
   "metadata": {},
   "source": [
    "\n",
    "# 1.Interpreta, formula y resuelve problemas aditivos de composición, transformación y comparación en diferentes contextos; y multiplicativos, directos e inversos, en diferentes contextos. Derechos Básicos de Aprendizaje • V.2   \n",
    "\n",
    "**Evidencias de aprendizaje**  \n",
    "\n",
    "* Construye diagramas para representar las relaciones observadas entre las cantidades presentes en una situación. \n",
    "* Resuelve problemas aditivos (suma o resta) y multiplicativos (multiplicación o división) de composición de medida y de conteo. \n",
    "* Propone estrategias para calcular el número de combinaciones posibles de un conjunto de atributos. \n",
    "* Analiza los resultados ofrecidos por el cálculo matemático e identifica las condiciones bajo las cuales ese resultado es o no plausible."
   ]
  },
  {
   "cell_type": "markdown",
   "id": "ec048afb",
   "metadata": {},
   "source": [
    "# Estructura de la clase   \n",
    "\n",
    "# Título de la Clase\n",
    "Problemas Aditivos y Multiplicativos en Tercer Grado de Educación Primaria\n",
    "\n",
    "---\n",
    "\n",
    "## 1. Objetivos de Aprendizaje\n",
    "**Objetivo principal:**\n",
    "Interpreta, formula y resuelve problemas aditivos de composición, transformación y comparación en diferentes contextos; y multiplicativos, directos e inversos, en diferentes contextos.\n",
    "\n",
    "### **Indicadores de logro:**\n",
    "- Construye diagramas para representar las relaciones observadas entre las cantidades presentes en una situación.\n",
    "- Resuelve problemas aditivos (suma o resta) y multiplicativos (multiplicación o división) de composición de medida y de conteo.\n",
    "- Propone estrategias para calcular el número de combinaciones posibles de un conjunto de atributos.\n",
    "- Analiza los resultados ofrecidos por el cálculo matemático e identifica las condiciones bajo las cuales ese resultado es o no plausible.\n",
    "\n",
    "---\n",
    "\n",
    "## 2. Contenido de la Clase\n",
    "1. Concepto de adición y sus propiedades.\n",
    "2. Concepto de multiplicación y sus propiedades.\n",
    "3. Diferencias entre problemas aditivos y multiplicativos.\n",
    "4. Estrategias de resolución de problemas.\n",
    "5. Representación gráfica de problemas en Python (usando matplotlib y plotly).\n",
    "6. Animaciones y simulaciones de problemas aditivos y multiplicativos en Python.\n",
    "\n",
    "---\n",
    "\n",
    "## 3. Mapa Conceptual\n",
    "Se generará un mapa conceptual en Graphviz y se guardará en `\"C:\\\\Users\\\\marco\\\\Descargas\"`.\n",
    "\n",
    "```python\n",
    "from graphviz import Digraph\n",
    "\n",
    "dot = Digraph()\n",
    "dot.attr(size='8,5')\n",
    "dot.node('A', 'Problemas Matemáticos', shape='box', style='filled', fillcolor='lightblue')\n",
    "dot.node('B', 'Problemas Aditivos', shape='ellipse', style='filled', fillcolor='lightgreen')\n",
    "dot.node('C', 'Problemas Multiplicativos', shape='ellipse', style='filled', fillcolor='lightcoral')\n",
    "dot.node('D', 'Estrategias de Resolución', shape='diamond', style='filled', fillcolor='yellow')\n",
    "dot.node('E', 'Representación en Python', shape='parallelogram', style='filled', fillcolor='lightgray')\n",
    "\n",
    "dot.edges(['AB', 'AC', 'BD', 'CD', 'DE'])\n",
    "dot.render('C:\\\\Users\\\\marco\\\\Descargas\\\\mapa_conceptual', format='png')\n",
    "```\n",
    "\n",
    "---\n",
    "\n",
    "## 4. Elementos Históricos y Epistemológicos\n",
    "1. **Historia de la suma y la multiplicación**: Desde los egipcios y babilonios hasta el álgebra moderna.\n",
    "2. **Ilustración**: Cuento infantil sobre un mercader que usaba multiplicación para calcular el precio de sus productos.\n",
    "\n",
    "---\n",
    "\n",
    "## 5. Actividades de Aprendizaje\n",
    "1. **Juego de roles**: Resolver problemas de compra y venta.\n",
    "2. **Arte y matemáticas**: Crear mosaicos con patrones geométricos basados en operaciones matemáticas.\n",
    "3. **Python interactivo**: Uso de `ipywidgets` para simular problemas matemáticos interactivos.\n",
    "\n",
    "---\n",
    "\n",
    "## 6. Canciones o Poemas\n",
    "**Poema sobre la multiplicación:**\n",
    "> Multiplicar es agrupar,\n",
    "> Los números vienen y van,\n",
    "> Con paciencia y con razón,\n",
    "> Lograrás la solución.\n",
    "\n",
    "---\n",
    "\n",
    "## 7. Tareas y Ejercitación\n",
    "- Resolver 10 problemas en Jupyter Notebook con funciones de usuario en Python.\n",
    "- Crear un programa en Python para visualizar combinaciones de objetos.\n",
    "\n",
    "---\n",
    "\n",
    "## 8. Evaluación\n",
    "1. **Proyectos**: Crear animaciones en `matplotlib.animation` para visualizar problemas matemáticos.\n",
    "2. **Quiz ejemplo:**\n",
    "   - Si María tiene 3 manzanas y compra 2 más, ¿cuántas tiene en total?\n",
    "3. **Parcial ejemplo:**\n",
    "   - Resolver un problema con datos en un `DataFrame` de Pandas y graficar los resultados.\n",
    "\n",
    "---\n",
    "\n",
    "## 9. Actividad de Retroalimentación\n",
    "Se realizará una sesión de código colaborativo en Jupyter Notebook, donde los estudiantes propondrán problemas y sus compañeros los resolverán con Python.\n",
    "\n",
    "---\n",
    "\n",
    "## 10. Vocabulario y Frases en Inglés\n",
    "**Vocabulario:**\n",
    "- Addition: Adición\n",
    "- Multiplication: Multiplicación\n",
    "- Sum: Suma\n",
    "- Product: Producto\n",
    "- Equation: Ecuación\n",
    "\n",
    "**Frases:**\n",
    "- \"To solve this problem, we add these numbers.\"\n",
    "- \"Multiplication is repeated addition.\"\n",
    "\n"
   ]
  },
  {
   "cell_type": "markdown",
   "id": "cc539357",
   "metadata": {},
   "source": [
    "# Implementación de esta estructura de clase    \n",
    "\n",
    "# Título de la Clase\n",
    "Problemas Aditivos y Multiplicativos en Tercer Grado de Educación Primaria\n",
    "\n",
    "---\n",
    "\n",
    "## 1. Objetivos de Aprendizaje\n",
    "**Objetivo principal:**\n",
    "Interpreta, formula y resuelve problemas aditivos de composición, transformación y comparación en diferentes contextos; y multiplicativos, directos e inversos, en diferentes contextos.\n",
    "\n",
    "### **Indicadores de logro:**\n",
    "- Construye diagramas para representar las relaciones observadas entre las cantidades presentes en una situación.\n",
    "- Resuelve problemas aditivos (suma o resta) y multiplicativos (multiplicación o división) de composición de medida y de conteo.\n",
    "- Propone estrategias para calcular el número de combinaciones posibles de un conjunto de atributos.\n",
    "- Analiza los resultados ofrecidos por el cálculo matemático e identifica las condiciones bajo las cuales ese resultado es o no plausible.\n",
    "\n",
    "---\n",
    "\n",
    "## 2. Contenido de la Clase\n",
    "1. Concepto de adición y sus propiedades.\n",
    "2. Concepto de multiplicación y sus propiedades.\n",
    "3. Diferencias entre problemas aditivos y multiplicativos.\n",
    "4. Estrategias de resolución de problemas.\n",
    "5. Representación gráfica de problemas en Python (usando matplotlib y plotly).\n",
    "6. Animaciones y simulaciones de problemas aditivos y multiplicativos en Python.\n",
    "\n",
    "---\n",
    "\n",
    "## 3. Mapa Conceptual\n",
    "Se generará un mapa conceptual en Graphviz y se guardará en `\"C:\\\\Users\\\\marco\\\\Descargas\"`.\n",
    "\n",
    "```python\n",
    "from graphviz import Digraph\n",
    "\n",
    "dot = Digraph()\n",
    "dot.attr(size='8,5')\n",
    "dot.node('A', 'Problemas Matemáticos', shape='box', style='filled', fillcolor='lightblue')\n",
    "dot.node('B', 'Problemas Aditivos', shape='ellipse', style='filled', fillcolor='lightgreen')\n",
    "dot.node('C', 'Problemas Multiplicativos', shape='ellipse', style='filled', fillcolor='lightcoral')\n",
    "dot.node('D', 'Estrategias de Resolución', shape='diamond', style='filled', fillcolor='yellow')\n",
    "dot.node('E', 'Representación en Python', shape='parallelogram', style='filled', fillcolor='lightgray')\n",
    "\n",
    "dot.edges(['AB', 'AC', 'BD', 'CD', 'DE'])\n",
    "dot.render('C:\\\\Users\\\\marco\\\\Descargas\\\\mapa_conceptual', format='png')\n",
    "```\n",
    "\n",
    "---\n",
    "\n",
    "## 4. Elementos Históricos y Epistemológicos\n",
    "1. **Historia de la suma y la multiplicación**: Desde los egipcios y babilonios hasta el álgebra moderna.\n",
    "2. **Ilustración**: Cuento infantil sobre un mercader que usaba multiplicación para calcular el precio de sus productos.\n",
    "\n",
    "---\n",
    "\n",
    "## 5. Actividades de Aprendizaje\n",
    "1. **Juego de roles**: Resolver problemas de compra y venta.\n",
    "2. **Arte y matemáticas**: Crear mosaicos con patrones geométricos basados en operaciones matemáticas.\n",
    "3. **Python interactivo**: Uso de `ipywidgets` para simular problemas matemáticos interactivos.\n",
    "\n",
    "---\n",
    "\n",
    "## 6. Canciones o Poemas\n",
    "**Poema sobre la multiplicación:**\n",
    "> Multiplicar es agrupar,\n",
    "> Los números vienen y van,\n",
    "> Con paciencia y con razón,\n",
    "> Lograrás la solución.\n",
    "\n",
    "---\n",
    "\n",
    "## 7. Tareas y Ejercitación\n",
    "- Resolver 10 problemas en Jupyter Notebook con funciones de usuario en Python.\n",
    "- Crear un programa en Python para visualizar combinaciones de objetos.\n",
    "\n",
    "---\n",
    "\n",
    "## 8. Evaluación\n",
    "1. **Proyectos**: Crear animaciones en `matplotlib.animation` para visualizar problemas matemáticos.\n",
    "2. **Quiz ejemplo:**\n",
    "   - Si María tiene 3 manzanas y compra 2 más, ¿cuántas tiene en total?\n",
    "3. **Parcial ejemplo:**\n",
    "   - Resolver un problema con datos en un `DataFrame` de Pandas y graficar los resultados.\n",
    "\n",
    "---\n",
    "\n",
    "## 9. Actividad de Retroalimentación\n",
    "Se realizará una sesión de código colaborativo en Jupyter Notebook, donde los estudiantes propondrán problemas y sus compañeros los resolverán con Python.\n",
    "\n",
    "---\n",
    "\n",
    "## 10. Vocabulario y Frases en Inglés\n",
    "**Vocabulario:**\n",
    "- Addition: Adición\n",
    "- Multiplication: Multiplicación\n",
    "- Sum: Suma\n",
    "- Product: Producto\n",
    "- Equation: Ecuación\n",
    "\n",
    "**Frases:**\n",
    "- \"To solve this problem, we add these numbers.\"\n",
    "- \"Multiplication is repeated addition.\"\n",
    "\n"
   ]
  },
  {
   "cell_type": "markdown",
   "id": "740f3401",
   "metadata": {
    "slideshow": {
     "slide_type": "slide"
    }
   },
   "source": [
    "# Componente de manejo de calculadora Casio asociado al objetivo de aprendizaje de esta clase  \n",
    "\n",
    "## Pasos para lograr el objetivo de aprendizaje con la experimentación en la calculadora Casio 991LA cw  "
   ]
  },
  {
   "cell_type": "markdown",
   "id": "8ba64aed",
   "metadata": {},
   "source": [
    "# Cursos que orienta el profesor Marco Julio Cañas Campillo en 2025  \n",
    "\n",
    "1. Práctica Pedagógica V para Licenciatura en Educación Infantil\n",
    "2. Fundamentos de Lógica para Licenciatura en Matemáticas \n",
    "3. Análisis Numérico para Licenciatura en Matemáticas. \n",
    "4. Cálculo Vectorial para Ingeniería Agropecuaria"
   ]
  },
  {
   "cell_type": "markdown",
   "id": "8d41fe58",
   "metadata": {
    "slideshow": {
     "slide_type": "slide"
    }
   },
   "source": [
    "# Horario de clases del profesor Marco\n",
    "\n",
    "* Lunes 8-12: Cálculo Vectorial\n",
    "* Martes 8-12 M: Fundamentos de Aritmética. \n",
    "* Miércoles 8 a 12 M: Fundamentos de la Lógica\n",
    "* Jueves 2 a 6 PM: Desarrollo del pensamiento matemático en la infancia. \n",
    "* Viernes 8 - 12 M: Desarrollo del pensamiento matemático en la infancia. \n",
    "* Sábados 8-12 Asesorías y espacio para retroalimentación y apoyo al trabajo independiente. "
   ]
  },
  {
   "cell_type": "markdown",
   "id": "ae114e14",
   "metadata": {
    "slideshow": {
     "slide_type": "slide"
    }
   },
   "source": [
    "# Horarios de monitoría y asesoría  \n",
    "\n",
    "Coordinador de los cursos de la Facultad de Educación para regiones:    \n",
    "\n",
    "Andrés Vélez: regioneducacion.fedu@udea.edu.co  \n",
    "Coordinador Regiones  \n",
    "Facultad de Educación  \n",
    "Universidad de Antioquia  "
   ]
  },
  {
   "cell_type": "markdown",
   "id": "b1db4b6c",
   "metadata": {
    "slideshow": {
     "slide_type": "slide"
    }
   },
   "source": [
    "## Monitor Manuel San Juan Serrano\n",
    "\n",
    "Contactar escribiendo al correo: manuel.serrano1@udea.edu.co"
   ]
  },
  {
   "cell_type": "markdown",
   "id": "39559692",
   "metadata": {
    "slideshow": {
     "slide_type": "slide"
    }
   },
   "source": [
    "Martes y jueves de 8 - 12  \n",
    "Miércoles 10 - 12 y de 2 a 4 PM  \n",
    "Sábado: 8 - 12"
   ]
  },
  {
   "cell_type": "markdown",
   "id": "10bce0d0",
   "metadata": {
    "slideshow": {
     "slide_type": "slide"
    }
   },
   "source": [
    "## Referentes "
   ]
  },
  {
   "cell_type": "markdown",
   "id": "1db3c468",
   "metadata": {
    "slideshow": {
     "slide_type": "slide"
    }
   },
   "source": [
    "* [Grajales Vanegas, L. M., Restrepo Estrada, C. E., Restrepo Ochoa, S. I., & Ruíz De Villalba, F. (2015). Matemáticas I para las ciencias económicas.](https://bibliotecadigital.udea.edu.co/handle/10495/3010)\n",
    "  \n",
    "* R. Duval y Semiosis y pensamiento humano, 2.ª ed. Cali, Colombia: Programa Editorial Universidad del Valle, 2017. [En línea]. Disponible en: https://programaeditorial.univalle.edu.co/gpd-semiosis-y-pensamiento-humano-9789587655278-63324cdb0f6b3.html\n",
    "\n",
    "* [Aylwin, C. U. (2011). Lógica, conjuntos y números. Universidad de los Andes, Consejo de Publicaciones, Colección: Ciencias Básicas, Serie: Matemáticas.](https://github.com/marco-canas/fundamentos_logica/blob/main/referentes/2_uzcategui/uscategui.pdf)\n",
    "  \n",
    "* [Chollet, F. (2021). Deep learning with Python. Simon and Schuster.](chrome-extension://efaidnbmnnnibpcajpcglclefindmkaj/https://tanthiamhuat.wordpress.com/wp-content/uploads/2018/03/deeplearningwithpython.pdf)  \n",
    "  \n",
    "* [Watson, S., Stewart, J., & Redlin, L. (2009). Precálculo. Matemáticas para el cálculo.](https://github.com/marco-canas/calculo/blob/main/referents/1_precalculo_stewart/stewart_precalculo.pdf)  \n",
    "\n",
    "* [Purcell, E. J., Varberg, D., & Rigdon, S. E. (2007). Cálculo diferencial e integral. Pearson Educación.](https://github.com/marco-canas/calculo/blob/main/referents/purcell/purcell_calculo.pdf)\n",
    "\n",
    "  \n",
    "\n",
    "* [stewart cálculo](https://udeaeduco-my.sharepoint.com/:b:/g/personal/marco_canas_udea_edu_co/EZgXZjAp8QxPqOAim2hs6LcBNPLGjSHf-xwYnUVYkwa04w?e=RZdTCy)  \n",
    "\n",
    "* [larson](https://udeaeduco-my.sharepoint.com/:b:/g/personal/marco_canas_udea_edu_co/ES71ChFeO9ZDhW3TwC5Ijk8BjxUK3Pdqz_fjHxTTFAfIAg?e=VDEjfu)\n",
    "\n",
    "\n",
    "\n",
    "* [Recomendación de la UNESCO sobre ciencia abierta](https://unesdoc.unesco.org/ark:/48223/pf0000379949_spa)\n",
    "\n",
    "* [chatGPT](https://openai.com/blog/chatgpt)  \n",
    "\n",
    "* [Géron, A. (2017). Hands-on machine learning with scikit-learn and tensorflow: Concepts. Tools, and Techniques to build intelligent systems.](chrome-extension://efaidnbmnnnibpcajpcglclefindmkaj/http://14.139.161.31/OddSem-0822-1122/Hands-On_Machine_Learning_with_Scikit-Learn-Keras-and-TensorFlow-2nd-Edition-Aurelien-Geron.pdf)   \n"
   ]
  },
  {
   "cell_type": "markdown",
   "id": "df925560",
   "metadata": {},
   "source": [
    "\n",
    "* [McKinney, W. (2012). Python for data analysis: Data wrangling with Pandas, NumPy, and IPython. \" O'Reilly Media, Inc.\".](https://wesmckinney.com/book/) "
   ]
  },
  {
   "cell_type": "markdown",
   "id": "8e65d6f9",
   "metadata": {},
   "source": [
    "# Como estudiante, encuentro que...   \n",
    "\n",
    "F: Mis Fortalezas son:     \n",
    "O: Mis Oportunidades son:    \n",
    "D: Mis Debilidades son:    \n",
    "A: Lo que Amenazas mi aprendizaje es:  "
   ]
  },
  {
   "cell_type": "markdown",
   "id": "6b9e56a8",
   "metadata": {
    "slideshow": {
     "slide_type": "slide"
    }
   },
   "source": [
    "### [Evaluamos al profesor Marco Cañas Aquí](https://forms.office.com/Pages/ResponsePage.aspx?id=IefhmYRxjkmK_7KtTlPBwkanXIs1i1FEujpsZgO6dXpUREJPV1kxUk1JV1ozTFJIQVNIQjY5WEY3US4u)"
   ]
  },
  {
   "cell_type": "markdown",
   "id": "10f43536",
   "metadata": {
    "slideshow": {
     "slide_type": "slide"
    }
   },
   "source": [
    "### Continue su aprendizaje en la siguiente clase a través del siguiente [vínculo]()"
   ]
  },
  {
   "cell_type": "markdown",
   "id": "53cc9115",
   "metadata": {
    "slideshow": {
     "slide_type": "slide"
    }
   },
   "source": [
    "## Agradecimientos  \n",
    "\n",
    "Doy gracias a Dios por la vida de mi Hijo Joseph Cañas Osorio y la madurez que ha alcanzado. Este hijo me enorgullece y me hace falta abrazarlo cada día. \n",
    "\n",
    "Y a mi esposa Yasmira Emperatriz Barboza Mogollón por su apoyo, orientación y acompañamiento. "
   ]
  }
 ],
 "metadata": {
  "celltoolbar": "Slideshow",
  "kernelspec": {
   "display_name": ".venv",
   "language": "python",
   "name": "python3"
  },
  "language_info": {
   "codemirror_mode": {
    "name": "ipython",
    "version": 3
   },
   "file_extension": ".py",
   "mimetype": "text/x-python",
   "name": "python",
   "nbconvert_exporter": "python",
   "pygments_lexer": "ipython3",
   "version": "3.13.2"
  },
  "rise": {
   "enable_chalkboard": true,
   "theme": "sky",
   "transition": "zoom"
  }
 },
 "nbformat": 4,
 "nbformat_minor": 5
}
